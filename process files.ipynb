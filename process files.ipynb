{
 "cells": [
  {
   "cell_type": "markdown",
   "metadata": {},
   "source": [
    "### parse excel files and tabularize the results in csv files \n",
    "- only consider non blank or \"X\" values\n",
    "- organize by filename/location, amenity, and date/time\n",
    "- consider select months only (see helpers.py)\n",
    "- handle various data formatting in where date/time is located\n",
    "- account for .xls files and some system generated file/parse exceptions"
   ]
  },
  {
   "cell_type": "code",
   "execution_count": 1,
   "metadata": {},
   "outputs": [],
   "source": [
    "import os\n",
    "import glob\n",
    "import re\n",
    "import pandas as pd\n",
    "from pandas.core.base import DataError\n",
    "# custom modules\n",
    "from helperscripts import helpers"
   ]
  },
  {
   "cell_type": "code",
   "execution_count": 2,
   "metadata": {},
   "outputs": [
    {
     "name": "stdout",
     "output_type": "stream",
     "text": [
      "looking in the following directories:\n",
      "['sample folder 2', 'sample folder 4', 'sample folder 3', 'sample folder 1']\n"
     ]
    }
   ],
   "source": [
    "# set parameters\n",
    "start_path = os.getcwd()\n",
    "parent_dir = \"data\"\n",
    "write_path = \"results\"\n",
    "# get subdirectories to parse\n",
    "subdirs = os.listdir(os.path.join(start_path, parent_dir))\n",
    " \n",
    "print(f'looking in the following directories:\\n{subdirs}')"
   ]
  },
  {
   "cell_type": "markdown",
   "metadata": {},
   "source": [
    "<b>note</b>\n",
    "\n",
    "in this example the data is sort of made up. basically its random values pasted at random, but fairly reflective of the data as it was in terms of consistency and completness. some of the files are duplicates because i was a little lazy in making up the data while retaining the weird format. basically it handles a lot of the oddities and the helpers.py script is where the real processing lies."
   ]
  },
  {
   "cell_type": "code",
   "execution_count": 3,
   "metadata": {},
   "outputs": [
    {
     "name": "stdout",
     "output_type": "stream",
     "text": [
      "trying.../GitHub/ExcelDataCollectionParser2/data/sample folder 2/2017 Summer Facility Usage Stats LocationD TypeB.xlsx\n",
      "done with.../GitHub/ExcelDataCollectionParser2/data/sample folder 2/2017 Summer Facility Usage Stats LocationD TypeB.xlsx\n",
      "trying.../GitHub/ExcelDataCollectionParser2/data/sample folder 2/2017 Summer Facility Usage Stats Location E TypeA.xlsx\n",
      "done with.../GitHub/ExcelDataCollectionParser2/data/sample folder 2/2017 Summer Facility Usage Stats Location E TypeA.xlsx\n",
      "trying.../GitHub/ExcelDataCollectionParser2/data/sample folder 2/2018 Outdoor Usage Stats_Location F TypeA.xlsx\n",
      "done with.../GitHub/ExcelDataCollectionParser2/data/sample folder 2/2018 Outdoor Usage Stats_Location F TypeA.xlsx\n",
      "COMPLETED ----------- sample folder 2 ----------------\n",
      "\n",
      "\n",
      "\n",
      "trying.../GitHub/ExcelDataCollectionParser2/data/sample folder 4/2017 Summer Facility Usage Stats-LocationB-TypeA.xlsx\n",
      "done with.../GitHub/ExcelDataCollectionParser2/data/sample folder 4/2017 Summer Facility Usage Stats-LocationB-TypeA.xlsx\n",
      "trying.../GitHub/ExcelDataCollectionParser2/data/sample folder 4/2017 Summer Facility Usage Stats LocationC-TypeB.xlsx\n",
      "done with.../GitHub/ExcelDataCollectionParser2/data/sample folder 4/2017 Summer Facility Usage Stats LocationC-TypeB.xlsx\n",
      "trying.../GitHub/ExcelDataCollectionParser2/data/sample folder 4/2018 Outdoor Usage Stats_Location A-TypeA.xlsx\n",
      "done with.../GitHub/ExcelDataCollectionParser2/data/sample folder 4/2018 Outdoor Usage Stats_Location A-TypeA.xlsx\n",
      "COMPLETED ----------- sample folder 4 ----------------\n",
      "\n",
      "\n",
      "\n",
      "trying.../GitHub/ExcelDataCollectionParser2/data/sample folder 3/2017 Summer Facility Usage Stats LocationD TypeB.xlsx\n",
      "done with.../GitHub/ExcelDataCollectionParser2/data/sample folder 3/2017 Summer Facility Usage Stats LocationD TypeB.xlsx\n",
      "trying.../GitHub/ExcelDataCollectionParser2/data/sample folder 3/2017 Summer Facility Usage Stats Location E TypeA.xlsx\n",
      "done with.../GitHub/ExcelDataCollectionParser2/data/sample folder 3/2017 Summer Facility Usage Stats Location E TypeA.xlsx\n",
      "trying.../GitHub/ExcelDataCollectionParser2/data/sample folder 3/2018 Outdoor Usage Stats_Location F TypeA.xlsx\n",
      "done with.../GitHub/ExcelDataCollectionParser2/data/sample folder 3/2018 Outdoor Usage Stats_Location F TypeA.xlsx\n",
      "COMPLETED ----------- sample folder 3 ----------------\n",
      "\n",
      "\n",
      "\n",
      "trying.../GitHub/ExcelDataCollectionParser2/data/sample folder 1/2017 Summer Facility Usage Stats-LocationB-TypeA.xlsx\n",
      "done with.../GitHub/ExcelDataCollectionParser2/data/sample folder 1/2017 Summer Facility Usage Stats-LocationB-TypeA.xlsx\n",
      "trying.../GitHub/ExcelDataCollectionParser2/data/sample folder 1/2017 Summer Facility Usage Stats LocationC-TypeB.xlsx\n",
      "done with.../GitHub/ExcelDataCollectionParser2/data/sample folder 1/2017 Summer Facility Usage Stats LocationC-TypeB.xlsx\n",
      "trying.../GitHub/ExcelDataCollectionParser2/data/sample folder 1/2018 Outdoor Usage Stats_Location A-TypeA.xlsx\n",
      "done with.../GitHub/ExcelDataCollectionParser2/data/sample folder 1/2018 Outdoor Usage Stats_Location A-TypeA.xlsx\n",
      "COMPLETED ----------- sample folder 1 ----------------\n",
      "\n",
      "\n",
      "\n"
     ]
    }
   ],
   "source": [
    "for s in subdirs:\n",
    "    helpers.iter_transform_count_files(start_path=start_path, look_in_path=parent_dir, subdir=s, write_path=\"results\", file_prepend=str(s))\n",
    "    print(f'COMPLETED ----------- {s} ----------------\\n\\n\\n')"
   ]
  },
  {
   "cell_type": "markdown",
   "metadata": {},
   "source": [
    "<hr>\n",
    "## combine the individual output files as a single csv"
   ]
  },
  {
   "cell_type": "code",
   "execution_count": 4,
   "metadata": {},
   "outputs": [
    {
     "name": "stdout",
     "output_type": "stream",
     "text": [
      "Number of Files: 48\n",
      "done!\n"
     ]
    }
   ],
   "source": [
    "extension = 'csv'\n",
    "all_files = [i for i in glob.glob('./results/*.{}'.format(extension))]\n",
    "print(f'Number of Files: {len(all_files)}')\n",
    "#combine all files in the list\n",
    "df = pd.concat([pd.read_csv(f) for f in all_files])\n",
    "#export to csv\n",
    "df.to_csv( \"./final_output.csv\", index=False, encoding='utf-8-sig')\n",
    "print('done!')"
   ]
  }
 ],
 "metadata": {
  "kernelspec": {
   "display_name": "ExcelDataCollectionParser",
   "language": "python",
   "name": "edcp"
  },
  "language_info": {
   "codemirror_mode": {
    "name": "ipython",
    "version": 3
   },
   "file_extension": ".py",
   "mimetype": "text/x-python",
   "name": "python",
   "nbconvert_exporter": "python",
   "pygments_lexer": "ipython3",
   "version": "3.9.5"
  }
 },
 "nbformat": 4,
 "nbformat_minor": 4
}
